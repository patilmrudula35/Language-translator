{
 "cells": [
  {
   "cell_type": "code",
   "execution_count": 1,
   "id": "559dc45f",
   "metadata": {},
   "outputs": [
    {
     "name": "stdout",
     "output_type": "stream",
     "text": [
      "Collecting googletrans==4.0.0-rc1\n",
      "  Downloading googletrans-4.0.0rc1.tar.gz (20 kB)\n",
      "  Preparing metadata (setup.py): started\n",
      "  Preparing metadata (setup.py): finished with status 'done'\n",
      "Requirement already satisfied: httpx==0.13.3 in c:\\anaconda\\lib\\site-packages (from googletrans==4.0.0-rc1) (0.13.3)\n",
      "Requirement already satisfied: sniffio in c:\\anaconda\\lib\\site-packages (from httpx==0.13.3->googletrans==4.0.0-rc1) (1.2.0)\n",
      "Requirement already satisfied: idna==2.* in c:\\anaconda\\lib\\site-packages (from httpx==0.13.3->googletrans==4.0.0-rc1) (2.10)\n",
      "Requirement already satisfied: chardet==3.* in c:\\anaconda\\lib\\site-packages (from httpx==0.13.3->googletrans==4.0.0-rc1) (3.0.4)\n",
      "Requirement already satisfied: rfc3986<2,>=1.3 in c:\\anaconda\\lib\\site-packages (from httpx==0.13.3->googletrans==4.0.0-rc1) (1.5.0)\n",
      "Requirement already satisfied: httpcore==0.9.* in c:\\anaconda\\lib\\site-packages (from httpx==0.13.3->googletrans==4.0.0-rc1) (0.9.1)\n",
      "Requirement already satisfied: hstspreload in c:\\anaconda\\lib\\site-packages (from httpx==0.13.3->googletrans==4.0.0-rc1) (2023.1.1)\n",
      "Requirement already satisfied: certifi in c:\\anaconda\\lib\\site-packages (from httpx==0.13.3->googletrans==4.0.0-rc1) (2022.12.7)\n",
      "Requirement already satisfied: h11<0.10,>=0.8 in c:\\anaconda\\lib\\site-packages (from httpcore==0.9.*->httpx==0.13.3->googletrans==4.0.0-rc1) (0.9.0)\n",
      "Requirement already satisfied: h2==3.* in c:\\anaconda\\lib\\site-packages (from httpcore==0.9.*->httpx==0.13.3->googletrans==4.0.0-rc1) (3.2.0)\n",
      "Requirement already satisfied: hpack<4,>=3.0 in c:\\anaconda\\lib\\site-packages (from h2==3.*->httpcore==0.9.*->httpx==0.13.3->googletrans==4.0.0-rc1) (3.0.0)\n",
      "Requirement already satisfied: hyperframe<6,>=5.2.0 in c:\\anaconda\\lib\\site-packages (from h2==3.*->httpcore==0.9.*->httpx==0.13.3->googletrans==4.0.0-rc1) (5.2.0)\n",
      "Building wheels for collected packages: googletrans\n",
      "  Building wheel for googletrans (setup.py): started\n",
      "  Building wheel for googletrans (setup.py): finished with status 'done'\n",
      "  Created wheel for googletrans: filename=googletrans-4.0.0rc1-py3-none-any.whl size=17411 sha256=e4752640eef0055e01a8f5422ffad2edd9bafcefd9c87b377e15c4f7434c0ede\n",
      "  Stored in directory: c:\\users\\ved kadu\\appdata\\local\\pip\\cache\\wheels\\60\\b3\\27\\d8aff3e2d5c2d0d97a117cdf0d5f13cd121e2c2b5fb49b55a0\n",
      "Successfully built googletrans\n",
      "Installing collected packages: googletrans\n",
      "  Attempting uninstall: googletrans\n",
      "    Found existing installation: googletrans 3.0.0\n",
      "    Uninstalling googletrans-3.0.0:\n",
      "      Successfully uninstalled googletrans-3.0.0\n",
      "Successfully installed googletrans-4.0.0rc1\n"
     ]
    }
   ],
   "source": [
    "# !pip install googletrans\n",
    "!pip install --upgrade googletrans==4.0.0-rc1\n"
   ]
  },
  {
   "cell_type": "code",
   "execution_count": 2,
   "id": "57865a4d",
   "metadata": {},
   "outputs": [],
   "source": [
    "from tkinter import *  #for GUI\n",
    "\n"
   ]
  },
  {
   "cell_type": "code",
   "execution_count": 3,
   "id": "c482aa1f",
   "metadata": {},
   "outputs": [],
   "source": [
    "from tkinter import ttk #for widgets"
   ]
  },
  {
   "cell_type": "code",
   "execution_count": 4,
   "id": "3cfe4725",
   "metadata": {},
   "outputs": [],
   "source": [
    "from googletrans import Translator,LANGUAGES #google trans to jdeuteucmt and translator to tramnslateu andj langageus for langeuageus"
   ]
  },
  {
   "cell_type": "code",
   "execution_count": 5,
   "id": "b306dba3",
   "metadata": {},
   "outputs": [],
   "source": [
    "root = Tk()\n",
    "root.geometry('1100x320')\n",
    "root.resizable(0,0)\n",
    "# root.iconbitmap('Hi')\n",
    "root['bg']='skyblue'\n",
    "root.title('Language Translator')\n",
    "Label(root,text=\"Language Translator\",font='Arial 20 bold').pack()"
   ]
  },
  {
   "cell_type": "code",
   "execution_count": 6,
   "id": "e6e93561",
   "metadata": {},
   "outputs": [],
   "source": [
    "# root.mainloop()"
   ]
  },
  {
   "cell_type": "code",
   "execution_count": 7,
   "id": "3e9505b6",
   "metadata": {},
   "outputs": [],
   "source": [
    "Label(root,text='Enter your text',font='Arial 15 bold',bg='pink').place(x=165,y=90)\n"
   ]
  },
  {
   "cell_type": "code",
   "execution_count": 8,
   "id": "4e97eb83",
   "metadata": {},
   "outputs": [
    {
     "data": {
      "text/plain": [
       "''"
      ]
     },
     "execution_count": 8,
     "metadata": {},
     "output_type": "execute_result"
    }
   ],
   "source": [
    "Input_text=Entry(root,width=60)\n",
    "Input_text.place(x=50,y=120)\n",
    "Input_text.get()\n",
    "\n"
   ]
  },
  {
   "cell_type": "code",
   "execution_count": 9,
   "id": "858d64ac",
   "metadata": {},
   "outputs": [],
   "source": [
    "Label(root,text='Output text',font='Arial 15 bold',bg='pink').place(x=820,y=90)\n",
    "\n",
    "\n",
    "# root.mainloop()"
   ]
  },
  {
   "cell_type": "code",
   "execution_count": null,
   "id": "9e0e8f31",
   "metadata": {},
   "outputs": [],
   "source": [
    "Output_text=Text(root,font='Arial 15 bold',bg='white',height=5,wrap=WORD,padx=5,pady=5,width=30)\n",
    "Output_text.place(x=700,y=120)\n",
    "language=list(LANGUAGES.values())\n",
    "dest_lang=ttk.Combobox(values=language,width=22)\n",
    "dest_lang.place(x=460,y=150)\n",
    "dest_lang.set('choose language')\n",
    "\n",
    "\n",
    "def Translate():\n",
    "    translator=Translator()\n",
    "    translated=translator.translate(text= Input_text.get(),dest= dest_lang.get())\n",
    "    Output_text.delete(1.0,END)\n",
    "    Output_text.insert(END,translated.text)\n",
    "    \n",
    "trans_btn=Button(root,text='Translate',font='Arial 15 bold',pady=5,command=Translate,bg='white',activebackground='orange')\n",
    "trans_btn.place(x=460,y=200)\n",
    "root.mainloop()\n"
   ]
  },
  {
   "cell_type": "code",
   "execution_count": null,
   "id": "8d542340",
   "metadata": {},
   "outputs": [],
   "source": []
  }
 ],
 "metadata": {
  "kernelspec": {
   "display_name": "Python 3 (ipykernel)",
   "language": "python",
   "name": "python3"
  },
  "language_info": {
   "codemirror_mode": {
    "name": "ipython",
    "version": 3
   },
   "file_extension": ".py",
   "mimetype": "text/x-python",
   "name": "python",
   "nbconvert_exporter": "python",
   "pygments_lexer": "ipython3",
   "version": "3.9.13"
  }
 },
 "nbformat": 4,
 "nbformat_minor": 5
}
